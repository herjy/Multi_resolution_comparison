{
 "cells": [
  {
   "cell_type": "code",
   "execution_count": null,
   "metadata": {},
   "outputs": [],
   "source": [
    "import scarlet\n",
    "import galsim\n",
    "from astropy import wcs as WCS\n",
    "import time\n",
    "from mr_tools import galsim_compare_tools as gct\n",
    "from mr_tools.simulations import Simulation, chi, SDR\n",
    "from scarlet.renderer import ResolutionRenderer"
   ]
  },
  {
   "cell_type": "markdown",
   "metadata": {},
   "source": [
    "# Visualization of resamplings with galsim and scarlet\n",
    "\n",
    "This notebook can be used to generate random galaxy profiles at various resolutions using galsim. These galaxies are then resampled using scarlet and galsim. The results can be visualized as images for which the Source Distortion Ratio (SDR) compared to the truth, is given.\n",
    "\n",
    "First let us load the parameters of the surveys we want to emulate."
   ]
  },
  {
   "cell_type": "code",
   "execution_count": null,
   "metadata": {},
   "outputs": [],
   "source": [
    "def load_surveys():\n",
    "    \"\"\"Creates dictionaries for the HST, EUCLID, WFRIST, HCS anf LSST surveys\n",
    "    that contain their names, pixel sizes and psf fwhm in arcseconds\"\"\"\n",
    "    pix_ROMAN = 0.11\n",
    "    pix_RUBIN = 0.2\n",
    "    pix_HST = 0.06\n",
    "    pix_EUCLID = 0.101\n",
    "    pix_HSC = 0.167\n",
    "\n",
    "    #Sigma of the psf profile in arcseconds.\n",
    "    sigma_ROMAN = 0.11*np.array([1.86]) #https://arxiv.org/pdf/1702.01747.pdf Z-band\n",
    "    sigma_RUBIN = np.array([0.297]) #https://www.lsst.org/about/camera/features\n",
    "    sigma_EUCLID = np.array([0.16]) #https://sci.esa.int/documents/33859/36320/1567253682555-Euclid_presentation_Paris_1Dec2009.pdf\n",
    "    sigma_HST = np.array([0.074]) #Source https://hst-docs.stsci.edu/display/WFC3IHB/6.6+UVIS+Optical+Performance#id-6.6UVISOpticalPerformance-6.6.1 800nm\n",
    "    sigma_HSC = np.array([0.285]) #https://hsc-release.mtk.nao.ac.jp/doc/ deep+udeep\n",
    "\n",
    "\n",
    "    EUCLID = {'name': 'Euclid',\n",
    "              'pixel': pix_EUCLID ,\n",
    "              'psf': sigma_EUCLID,\n",
    "              'channels': ['VIS'],\n",
    "              'sky':np.array([22.9]),\n",
    "              'exp_time': np.array([2260]),\n",
    "              'zero_point': np.array([6.85])}\n",
    "    HST = {'name': 'HST',\n",
    "           'pixel': pix_HST,\n",
    "           'psf': sigma_HST,\n",
    "           'channels': ['f814w'],\n",
    "           'sky':np.array([22]),\n",
    "           'exp_time': np.array([3000]),\n",
    "           'zero_point': np.array([20])}\n",
    "    HSC = {'name': 'HSC',\n",
    "           'pixel': pix_HSC,\n",
    "           'psf': sigma_HSC,\n",
    "           'channels': ['r'],\n",
    "           'sky': np.array([20.6]),\n",
    "           'exp_time': np.array([600]),\n",
    "           'zero_point': np.array([87.74])}\n",
    "    ROMAN = {'name': 'Roman',\n",
    "             'pixel': pix_ROMAN,\n",
    "             'psf': sigma_ROMAN,\n",
    "             'channels': ['Y106'],\n",
    "             'sky':np.array([22]), ## Not Checked!!!\n",
    "             'exp_time': np.array([3000]),## Not Checked!!!\n",
    "             'zero_point': np.array([26.41])}\n",
    "    RUBIN = {'name': 'Rubin',\n",
    "             'pixel': pix_RUBIN,\n",
    "             'psf': sigma_RUBIN,\n",
    "             'channels': ['r'],\n",
    "             'sky': np.array([21.2]),\n",
    "             'exp_time': np.array([5520]),\n",
    "             'zero_point': np.array([43.70])}\n",
    "\n",
    "    return HST, EUCLID, ROMAN, HSC, RUBIN"
   ]
  },
  {
   "cell_type": "markdown",
   "metadata": {},
   "source": [
    "The COSMOSCatalog is used to draw images of galaxies. These images being partially noisy, we apply a smoothing by a 2-pixel wide gaussian in the native image resolution (HST)."
   ]
  },
  {
   "cell_type": "code",
   "execution_count": null,
   "metadata": {},
   "outputs": [],
   "source": [
    "%pylab inline\n",
    "# Setup: declaring survey properties, loading catalog and making sure we have pretty colorbars\n",
    "data_dir='/Users/remy/Desktop/LSST_Project/GalSim/examples/data'\n",
    "data_dir='/Users/remy/Desktop/LSST_Project/GalSim/examples/data/COSMOS_23.5_training_sample/'\n",
    "HST, EUCLID, ROMAN, HSC, RUBIN = load_surveys()\n",
    "\n",
    "#cat = galsim.COSMOSCatalog(dir=data_dir, file_name = 'real_galaxy_catalog_23.5_example.fits')\n",
    "cat = galsim.COSMOSCatalog(dir=data_dir, file_name = 'real_galaxy_catalog_23.5.fits')\n",
    "\n",
    "mymap = 'gnuplot2'#mcolors.LinearSegmentedColormap.from_list('my_colormap', colors)\n",
    "matplotlib.rc('image', cmap='gist_stern')\n",
    "matplotlib.rc('image', interpolation='none')"
   ]
  },
  {
   "cell_type": "markdown",
   "metadata": {},
   "source": [
    "Setup for the image shapes and scarlet meta parameters"
   ]
  },
  {
   "cell_type": "code",
   "execution_count": null,
   "metadata": {},
   "outputs": [],
   "source": [
    "# Choose to surveys to match\n",
    "survey_hr = HSC\n",
    "survey_lr = RUBIN\n",
    "\n",
    "# PSF size (pixels)\n",
    "npsf = 41\n",
    "\n",
    "# The low resolution image will span the same physical area\n",
    "n_lr = 60\n",
    "n_hr = np.int(np.around(n_lr*survey_lr['pixel']/survey_hr['pixel'], decimals = 3))\n",
    "print(n_lr, n_hr)\n",
    "# Channel names (scarlet-specific)\n",
    "channel_hr = ['hr']\n",
    "channel_lr = ['lr']\n",
    "channels = channel_lr+channel_hr"
   ]
  },
  {
   "cell_type": "markdown",
   "metadata": {},
   "source": [
    "Plotting routines:"
   ]
  },
  {
   "cell_type": "code",
   "execution_count": null,
   "metadata": {},
   "outputs": [],
   "source": [
    "def plot_diff_kernels(true_psf, scarlet_rec, galsim_rec):\n",
    "    # Comparisonbetween scarlet and galsim of the reconstruction of the low resolution PSF at high resolution \n",
    "    r_scar=(true_psf.array-scarlet_rec.image)[0]\n",
    "    figure(figsize = (15,5))\n",
    "    plt.suptitle('comparison scarlet', fontsize = 20)\n",
    "    subplot(131)\n",
    "    title('scarlet PSF')\n",
    "    imshow((scarlet_rec.image[0]))\n",
    "    plt.colorbar()\n",
    "    subplot(132)\n",
    "    title('true PSF')\n",
    "    imshow((true_psf.array))\n",
    "    plt.colorbar()\n",
    "    subplot(133)\n",
    "    title('Residuals')\n",
    "    imshow((r_scar), cmap = mymap, \n",
    "           vmin = -np.max(np.abs(r_scar)), vmax = np.max(np.abs(r_scar)))\n",
    "    plt.colorbar()\n",
    "\n",
    "    r_gal = (true_psf.array-galsim_rec.array)\n",
    "    figure(figsize = (15,5))\n",
    "    plt.suptitle('comparison galsim', fontsize = 20)\n",
    "    subplot(131)\n",
    "    title('galsim PSF')\n",
    "    imshow((galsim_rec.array))\n",
    "    plt.colorbar()\n",
    "    subplot(132)\n",
    "    title('true PSF')\n",
    "    imshow((true_psf.array))\n",
    "    plt.colorbar()\n",
    "    subplot(133)\n",
    "    title('Residuals')\n",
    "    imshow((r_gal), cmap = mymap, \n",
    "           vmin = -np.max(np.max(r_gal)), vmax = np.max(np.max(r_gal)))\n",
    "    plt.colorbar()\n",
    "    pass\n",
    "\n",
    "def plot_comparison(true_hr, true_lr, scarlet_lr, galsim_lr):\n",
    "    # Source Distortion Ratio: the high the better\n",
    "    scarlet_sdr = SDR(data_lr, interp_scar[0])\n",
    "    galsim_sdr = SDR(data_lr, interp_gal)\n",
    "    print('scarlet SDR: ', scarlet_sdr)\n",
    "    print('galsim SDR: ', galsim_sdr)\n",
    "    \n",
    "    # Comparison of the reconstructions \n",
    "    gal_res = true_lr-galsim_lr\n",
    "    scar_res = true_lr-scarlet_lr[0]\n",
    "    figure(figsize = (10,15))\n",
    "    plt.suptitle('Interpolation comparison', fontsize=30)\n",
    "    subplot(321)\n",
    "    title('True '+survey_hr['name'], fontsize = 20)\n",
    "    imshow(((true_hr)))\n",
    "    plt.colorbar()\n",
    "    subplot(322)\n",
    "    title('True '+survey_lr['name'], fontsize = 20)\n",
    "    imshow(((true_lr)))\n",
    "    plt.colorbar()\n",
    "    subplot(323)\n",
    "    title('Scarlet interpolated', fontsize = 20)\n",
    "    imshow(((scarlet_lr[0])))\n",
    "    plt.text(35,5,f'SDR = {str(scarlet_sdr)[:6]}', color = 'w', fontsize = 12)\n",
    "    plt.colorbar()\n",
    "    subplot(324)\n",
    "    title('Galsim interpolation', fontsize = 20)\n",
    "    imshow(((galsim_lr)))\n",
    "    plt.text(35,5,f'SDR = {str(galsim_sdr)[:6]}', color = 'w', fontsize = 12)\n",
    "    plt.colorbar()\n",
    "    subplot(325)\n",
    "    title('Scarlet residuals', fontsize = 20)\n",
    "    imshow((scar_res), cmap=mymap, vmin = -np.max(np.abs(scar_res)), vmax = np.max(np.abs(scar_res)))\n",
    "    plt.colorbar()\n",
    "    subplot(326)\n",
    "    title('Galsim residuals', fontsize = 20)\n",
    "    imshow((gal_res), cmap=mymap, )\n",
    "    #vmin = -np.max(np.abs(scar_res)), vmax = np.max(np.abs(scar_res)))\n",
    "    plt.colorbar()\n",
    "    \n",
    "    plt.savefig('Resampling_example_'+survey_hr['name']+'_'+survey_lr['name']+'.png')\n",
    "    show()\n",
    "    pass"
   ]
  },
  {
   "cell_type": "markdown",
   "metadata": {},
   "source": [
    "## Generate sims\n",
    "\n",
    "Simulations of low and high resolution of the same galaxy are generated using the mr_tools package, which uses galsim to generate galaxy images from cosmos real galaxies."
   ]
  },
  {
   "cell_type": "code",
   "execution_count": null,
   "metadata": {
    "scrolled": false
   },
   "outputs": [],
   "source": [
    "# Make the simulations\n",
    "pic_hr, pic_lr = gct.mk_scene(survey_hr,\n",
    "                          survey_lr,\n",
    "                          cat,\n",
    "                          (n_hr,n_hr),\n",
    "                          (n_lr,n_lr),\n",
    "                          1, \n",
    "                          gal_type = 'real', \n",
    "                          random_seds = False, \n",
    "                          noise = False,\n",
    "                          use_cat = False,\n",
    "                          shift = False,\n",
    "                          index = 9775)\n",
    "wcs_hr = pic_hr.wcs\n",
    "wcs_lr = pic_lr.wcs\n",
    "\n",
    "data_hr = pic_hr.cube[0]/np.sum(pic_hr.cube[0])\n",
    "data_lr = pic_lr.cube[0]/np.sum(pic_lr.cube[0])\n",
    "\n",
    "\n",
    "psf_hr = scarlet.ImagePSF(np.array(pic_hr.psfs)[None, :,:])\n",
    "psf_lr = scarlet.ImagePSF(np.array(pic_lr.psfs)[None, :,:])\n",
    "\n",
    "ref = wcs_hr.wcs.crval.reshape((1,2))\n",
    "    "
   ]
  },
  {
   "cell_type": "markdown",
   "metadata": {},
   "source": [
    "## Scarlet setup\n",
    "\n",
    "We build the scarlet frames that constructs the operator to resample an image from a resolution to another."
   ]
  },
  {
   "cell_type": "code",
   "execution_count": null,
   "metadata": {},
   "outputs": [],
   "source": [
    "# Setup scarlet\n",
    "obs, frame = gct.setup_scarlet(data_hr, data_lr, wcs_hr, wcs_lr, psf_hr, psf_lr, channels, 'intersection')\n",
    "obs_lr, obs_hr = obs\n",
    "    "
   ]
  },
  {
   "cell_type": "markdown",
   "metadata": {},
   "source": [
    "## Building the galsim diff kernel\n",
    "\n",
    "To resample an image from one resolution to another, one has to interpolate between pixel positions, but also needs to take into account the difference between the psfs. \n",
    "- In the scarlet scheme these two operation (interpolation and psf-matching) are handled internally as one operation. \n",
    "- In the galsim case, we need to build the difference kernel between the high and low resolution psfs, drawn on the same grid.\n",
    "\n",
    "We show how accurately each method (galsim or scarlet) reconstructs the low resolution psf from the high resolution image and the diff kernel."
   ]
  },
  {
   "cell_type": "code",
   "execution_count": null,
   "metadata": {},
   "outputs": [],
   "source": [
    "# Galsim setup:\n",
    "## Interpolated image from psf_hr for galsim\n",
    "psf_hr_galsim = galsim.InterpolatedImage(galsim.Image(psf_hr.get_model()[0]), \n",
    "                                           scale = survey_hr['pixel'])\n",
    "\n",
    "## Interpolated Image of the low resolution galaxy for galsim\n",
    "psf_lr_galsim = galsim.InterpolatedImage(galsim.Image(psf_lr.get_model()[0]), \n",
    "                                           scale = survey_lr['pixel'])\n",
    "\n",
    "#diff kernel\n",
    "## Deconvolution kernel for diff kernel\n",
    "deconv = galsim.Deconvolve(psf_hr_galsim)\n",
    "## Building the diff kernel in galsim\n",
    "diff_gal = galsim.Convolve(deconv, psf_lr_galsim)\n",
    "\n",
    "# Check on the reconstruction of the PSF\n",
    "## Reconstruction of the low resolution psf by galsim from hr psf and diff kernel (sanity check)\n",
    "rec_gal = galsim.Convolve(diff_gal, psf_hr_galsim).drawImage(nx=npsf,\n",
    "                                                             ny=npsf, \n",
    "                                                             method = 'real_space', \n",
    "                                                             scale=survey_hr['pixel'])\n",
    "\n",
    "#Extract the difference kernel for scarlet (for sanity checks)\n",
    "## Pull the renderer\n",
    "renderer = ResolutionRenderer(obs_lr, frame)\n",
    "## Difference kernel from scarlet \n",
    "diff_scar = obs_lr.renderer.diff_kernel\n",
    "\n",
    "## True psf\n",
    "true_lr = pic_lr.psfs_obj[0].drawImage(nx=npsf,\n",
    "                                    ny=npsf,\n",
    "                                    method = 'real_space',\n",
    "                                    scale=survey_hr['pixel'])\n",
    "\n",
    "## Reconstruction of the low resolution psf by SCARLET from hr psf and diff kernel (sanity check)\n",
    "rec_scar = scarlet.fft.convolve(scarlet.fft.Fourier(psf_hr.get_model()), \n",
    "                                scarlet.fft.Fourier(diff_scar.image))\n",
    "\n",
    "plot_diff_kernels(true_lr, rec_scar, rec_gal)"
   ]
  },
  {
   "cell_type": "markdown",
   "metadata": {},
   "source": [
    "## Results\n",
    "\n",
    "We compare the reconstructions from galsim and scarlet. We also record the time each strategy spends on the reconstruction. The operations we time here are the only operations that need to be repeated in an iterative problem-solving approach. The steps of interpolating the PSF for galsim and building the resampling operator for scarlet are performed beforehand."
   ]
  },
  {
   "cell_type": "code",
   "execution_count": null,
   "metadata": {},
   "outputs": [],
   "source": [
    "# Run scarlet on simulations:\n",
    "print('Scarlet timing')\n",
    "%time renderer(data_hr[None,:,:])\n",
    "interp_scar = renderer(data_hr[None, :,:])\n",
    "\n",
    "# Run galsim on simlations\n",
    "print('Galsim timing')\n",
    "%time  gct.interp_galsim(data_hr, data_lr, diff_gal, 0, survey_hr['pixel'], survey_lr['pixel'])\n",
    "interp_gal = gct.interp_galsim(data_hr, data_lr, diff_gal, 0, survey_hr['pixel'], survey_lr['pixel']).array"
   ]
  },
  {
   "cell_type": "code",
   "execution_count": null,
   "metadata": {},
   "outputs": [],
   "source": [
    "plot_comparison(data_hr, data_lr, interp_scar, interp_gal)"
   ]
  },
  {
   "cell_type": "code",
   "execution_count": null,
   "metadata": {},
   "outputs": [],
   "source": []
  }
 ],
 "metadata": {
  "kernelspec": {
   "display_name": "nlp",
   "language": "python",
   "name": "nlp"
  },
  "language_info": {
   "codemirror_mode": {
    "name": "ipython",
    "version": 3
   },
   "file_extension": ".py",
   "mimetype": "text/x-python",
   "name": "python",
   "nbconvert_exporter": "python",
   "pygments_lexer": "ipython3",
   "version": "3.8.5"
  }
 },
 "nbformat": 4,
 "nbformat_minor": 2
}
