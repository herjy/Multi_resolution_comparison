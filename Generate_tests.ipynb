{
 "cells": [
  {
   "cell_type": "code",
   "execution_count": 1,
   "metadata": {},
   "outputs": [],
   "source": [
    "import scarlet\n",
    "import galsim\n",
    "from astropy import wcs as WCS\n",
    "import time\n",
    "import galsim_compare_tools as gct\n",
    "import pickle\n"
   ]
  },
  {
   "cell_type": "markdown",
   "metadata": {},
   "source": [
    "This notebook serves to generate test sets for scarlet tests"
   ]
  },
  {
   "cell_type": "code",
   "execution_count": 5,
   "metadata": {},
   "outputs": [
    {
     "name": "stdout",
     "output_type": "stream",
     "text": [
      "Populating the interactive namespace from numpy and matplotlib\n"
     ]
    },
    {
     "name": "stderr",
     "output_type": "stream",
     "text": [
      "/anaconda3/lib/python3.7/site-packages/IPython/core/magics/pylab.py:160: UserWarning: pylab import has clobbered these variables: ['angle']\n",
      "`%matplotlib` prevents importing * from pylab and numpy\n",
      "  \"\\n`%matplotlib` prevents importing * from pylab and numpy\"\n"
     ]
    }
   ],
   "source": [
    "%pylab inline\n",
    "# Setup: declaring survey properties, loading catalog and making sure we have pretty colorbars\n",
    "data_dir='/Users/remy/Desktop/LSST_Project/GalSim/examples/data'\n",
    "\n",
    "HST, EUCLID, WFIRST, HSC, RUBIN = gct.load_surveys()\n",
    "\n",
    "cat = galsim.COSMOSCatalog(dir=data_dir, file_name = 'real_galaxy_catalog_23.5_example.fits')\n",
    "\n",
    "# Channel names (scarlet-specific)\n",
    "channel_hr = ['hr']\n",
    "channel_lr = ['lr']\n",
    "channels = channel_lr+channel_hr\n",
    "\n",
    "mymap = 'gnuplot2'#mcolors.LinearSegmentedColormap.from_list('my_colormap', colors)\n",
    "matplotlib.rc('image', cmap='gist_stern')\n",
    "matplotlib.rc('image', interpolation='none')"
   ]
  },
  {
   "cell_type": "code",
   "execution_count": 6,
   "metadata": {},
   "outputs": [],
   "source": [
    "# Choose to surveys to match\n",
    "surveys = [HST, EUCLID, WFIRST, HSC, RUBIN]\n",
    "\n",
    "# PSF size (pixels)\n",
    "npsf = 41\n",
    "\n",
    "# Size of the high resolution image (pixels)\n",
    "n_hr = 131\n",
    "\n",
    "# The low resolution image will span the same physical area\n",
    "\n",
    "\n",
    "shift = (0, -15, -2, +1, +4)\n",
    "datas = []\n",
    "wcss = []\n",
    "psfs = []\n",
    "for i in range(len(surveys)-1):\n",
    "    s_hr = surveys[i]\n",
    "    s_lr = surveys[i + 1]\n",
    "    n_lr = np.int(n_hr*s_hr['pixel']/s_lr['pixel'])\n",
    "    # Make the simulations\n",
    "    data_hr, data_lr, psf_hr, psf_lr, angle = gct.mk_sim(39, s_hr, s_lr, (n_hr, n_hr), (n_lr, n_lr), npsf, cat)\n",
    "    datas.append(data_hr.array)\n",
    "    psfs.append(psf_hr)\n",
    "    wcss.append(data_hr.wcs)\n",
    "    n_hr = n_lr\n",
    "\n",
    "datas.append(data_lr.array)\n",
    "psfs.append(psf_lr)\n",
    "wcss.append(data_lr.wcs)\n",
    "\n",
    "np.savez('Multiresolution_tests.npz', images = datas, wcs = wcss, psf = psfs)\n",
    "#galsim.fits.writeMulti(datas, file_name='MultiResolution_images.fits')\n",
    "#galsim.fits.writeMulti(psfs, file_name='MultiResolution_psfs.fits')\n",
    "n_hr = 50\n",
    "n_lr = 50\n",
    "datas = []\n",
    "wcss = []\n",
    "psfs = []\n",
    "for s in shift:\n",
    "    s_hr = WFIRST\n",
    "    s_lr = WFIRST\n",
    "    data_hr, data_lr, psf_hr, psf_lr, angle = gct.mk_sim(39, s_hr, s_lr, (n_hr, n_hr), (n_lr+s, n_lr+s), npsf, cat)\n",
    "    datas.append(data_lr.array)\n",
    "    psfs.append(psf_lr)\n",
    "    wcss.append(data_lr.wcs)\n",
    "    \n",
    "\n",
    "    \n",
    "np.savez('Multiresolution_padded_tests.npz', images = datas, wcs = wcss, psf = psfs)\n",
    "    "
   ]
  },
  {
   "cell_type": "code",
   "execution_count": null,
   "metadata": {},
   "outputs": [],
   "source": []
  },
  {
   "cell_type": "code",
   "execution_count": null,
   "metadata": {},
   "outputs": [],
   "source": []
  }
 ],
 "metadata": {
  "kernelspec": {
   "display_name": "Python 3",
   "language": "python",
   "name": "python3"
  },
  "language_info": {
   "codemirror_mode": {
    "name": "ipython",
    "version": 3
   },
   "file_extension": ".py",
   "mimetype": "text/x-python",
   "name": "python",
   "nbconvert_exporter": "python",
   "pygments_lexer": "ipython3",
   "version": "3.7.3"
  }
 },
 "nbformat": 4,
 "nbformat_minor": 2
}
