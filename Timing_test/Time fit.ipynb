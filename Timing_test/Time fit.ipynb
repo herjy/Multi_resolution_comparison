{
 "cells": [
  {
   "cell_type": "code",
   "execution_count": null,
   "metadata": {},
   "outputs": [],
   "source": [
    "from mr_tools import fit_line as fl\n",
    "import numpy as np\n",
    "import matplotlib.pyplot as plt\n",
    "\n",
    "import pickle\n",
    "structure = pickle.load(open('Timings_npsf=41.pkl', 'rb'))\n",
    "\n",
    "#Reading results\n",
    "n_hrs = np.array(structure['n_hr'])\n",
    "n_lrs = np.array(structure['n_lr'])\n",
    "s_mean = (np.array(structure['s_mean']))\n",
    "s_std = np.array(structure['s_std'])\n",
    "g_mean = np.array(structure['g_mean'])\n",
    "g_std = np.array(structure['g_std'])\n",
    "\n",
    "s = np.argsort(n_lrs)\n",
    "s_mean = s_mean[s]\n",
    "s_std = s_std[s]\n",
    "g_mean = g_mean[s]\n",
    "g_std = g_std[s]\n",
    "n_lrs = n_lrs[s]\n",
    "\n",
    "\n",
    "def evaluate_on_grid(func, a_grid, b_grid, args=()):\n",
    "    a_grid,b_grid = np.meshgrid(a_grid, b_grid)\n",
    "    ab_grid = np.vstack((a_grid.ravel(), b_grid.ravel())).T\n",
    "    \n",
    "    func_vals = np.zeros(ab_grid.shape[0])\n",
    "    for j,pars in enumerate(ab_grid):\n",
    "        func_vals[j] = func(pars, *args)\n",
    "        \n",
    "    return func_vals.reshape(a_grid.shape)\n",
    "def line_model(pars, x):\n",
    "    return pars[0]*x + pars[1]\n",
    "\n",
    "# Timing fit\n",
    "stdy_y = np.sqrt(np.sum((s_std/s_mean)**2 + (g_std/g_mean)**2))\n"
   ]
  },
  {
   "cell_type": "code",
   "execution_count": null,
   "metadata": {},
   "outputs": [],
   "source": [
    "p0 = [1, 0, -1.]\n",
    "scatter_model = fl.StraightLineIntrinsicScatterModel(n_lrs, s_mean/g_mean, stdy_y*np.abs(s_mean/g_mean), line_model)\n",
    "chain,_,acc_frac = fl.run_metropolis_hastings(p0, n_steps=2**16, model=scatter_model, \n",
    "                                           proposal_sigmas=[0.15,0.15,0.2])\n",
    "acc_frac"
   ]
  },
  {
   "cell_type": "code",
   "execution_count": null,
   "metadata": {},
   "outputs": [],
   "source": [
    "fig,axes = plt.subplots(len(p0), 1, figsize=(5,7), sharex=True)\n",
    "\n",
    "for i in range(len(p0)):\n",
    "    axes[i].plot(chain[:,i], marker='', drawstyle='steps')\n",
    "    \n",
    "axes[0].legend(loc='best')\n",
    "axes[0].set_ylabel('$a$')\n",
    "\n",
    "axes[1].set_ylabel('$b$')\n",
    "\n",
    "axes[2].set_ylabel(r'$\\ln V$')\n",
    "\n",
    "fig.tight_layout()\n",
    "\n",
    "plt.show()\n",
    "\n",
    "plt.scatter(chain[:,0], chain[:,1], c = chain[:,-1])\n",
    "plt.show()\n"
   ]
  },
  {
   "cell_type": "code",
   "execution_count": null,
   "metadata": {},
   "outputs": [],
   "source": [
    "import corner\n",
    "fig = corner.corner(chain[2000:], bins=32, labels=['$a$', '$b$', r'$\\ln V$'], \n",
    "                    )"
   ]
  },
  {
   "cell_type": "code",
   "execution_count": null,
   "metadata": {},
   "outputs": [],
   "source": [
    "good_samples = chain[2000::8]\n"
   ]
  },
  {
   "cell_type": "code",
   "execution_count": null,
   "metadata": {},
   "outputs": [],
   "source": [
    "low,med,hi = np.percentile(good_samples, [16, 50, 84], axis=0)\n",
    "upper, lower = hi-med, med-low\n",
    "from IPython import display\n",
    "disp_str = \"\"\n",
    "for i,name in enumerate(['a', 'b', r'\\ln V']):\n",
    "    fmt_str = '{name}={val:.5f}^{{+{plus:.5f}}}_{{-{minus:.5f}}}'\n",
    "    disp_str += fmt_str.format(name=name, val=med[i], plus=upper[i], minus=lower[i])\n",
    "    disp_str += r'\\quad '\n",
    "    \n",
    "disp_str = \"${}$\".format(disp_str)\n",
    "display.Latex(data=disp_str)\n"
   ]
  },
  {
   "cell_type": "code",
   "execution_count": null,
   "metadata": {},
   "outputs": [],
   "source": [
    "#Timing ratios as a function of M\n",
    "fig2, ax2 = plt.subplots(figsize=(10, 6))\n",
    "plt.errorbar(n_lrs, s_mean/g_mean, yerr = stdy_y*np.abs(s_mean/g_mean), fmt =' ', ecolor='lightgray', zorder = -1)\n",
    "\n",
    "ax2.plot([0,220], [1,1], '--k')\n",
    "# Adding plotting parameters\n",
    "ax2.set_title('Timing ratios of resampling runs', fontsize=20)\n",
    "ax2.set_xlabel('M (# of pixels)', fontsize=20)\n",
    "ax2.set_ylabel('time ratios', fontsize=20)\n",
    "\n",
    "ax2.plot(n_lrs, med[0]*n_lrs + med[1], label = 'linear model')\n",
    "ax2.semilogy()\n",
    "\n",
    "sc1 = ax2.scatter(n_lrs, s_mean/g_mean,c = n_hrs, marker = 'o', cmap = 'winter', zorder = 1)\n",
    "ax2.cbar = plt.colorbar(sc1)\n",
    "ax2.cbar.set_label('N (# of pixels)', rotation=270, fontsize = 20, labelpad = 20)\n",
    "plt.legend(fontsize = 15)\n",
    "plt.savefig('galsim_scarlet_ratio.png')\n",
    "plt.show()\n"
   ]
  },
  {
   "cell_type": "code",
   "execution_count": null,
   "metadata": {},
   "outputs": [],
   "source": []
  }
 ],
 "metadata": {
  "kernelspec": {
   "display_name": "nlp",
   "language": "python",
   "name": "nlp"
  },
  "language_info": {
   "codemirror_mode": {
    "name": "ipython",
    "version": 3
   },
   "file_extension": ".py",
   "mimetype": "text/x-python",
   "name": "python",
   "nbconvert_exporter": "python",
   "pygments_lexer": "ipython3",
   "version": "3.8.5"
  }
 },
 "nbformat": 4,
 "nbformat_minor": 2
}
