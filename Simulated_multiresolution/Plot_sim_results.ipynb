{
 "cells": [
  {
   "cell_type": "code",
   "execution_count": null,
   "metadata": {},
   "outputs": [],
   "source": [
    "from mr_tools import galsim_compare_tools as gct\n",
    "from mr_tools.simulations import Simulation, load_surveys, chi\n",
    "import pickle\n",
    "import galsim\n",
    "\n",
    "# Import Packages and setup\n",
    "import numpy as np\n",
    "\n",
    "\n",
    "%matplotlib inline\n",
    "import matplotlib\n",
    "import matplotlib.pyplot as plt\n",
    "# use a better colormap and don't interpolate the pixels\n",
    "matplotlib.rc('image', cmap='gist_stern')\n",
    "matplotlib.rc('image', interpolation='none')"
   ]
  },
  {
   "cell_type": "code",
   "execution_count": null,
   "metadata": {},
   "outputs": [],
   "source": [
    "%pylab inline\n",
    "# Setup: declaring survey properties, loading catalog and making sure we have pretty colorbars\n",
    "data_dir='/Users/remy/Desktop/LSST_Project/GalSim/examples/data'\n",
    "\n",
    "HST, EUCLID, ROMAN, HSC, RUBIN = load_surveys()\n",
    "\n",
    "cat = galsim.COSMOSCatalog(dir=data_dir, file_name = 'real_galaxy_catalog_23.5_example.fits')\n",
    "\n",
    "# Generate simulations\n",
    "hr_dict = EUCLID\n",
    "lr_dict = RUBIN\n",
    "\n",
    "nlr = 60\n",
    "nhr = np.int(np.around(nlr*lr_dict['pixel']/hr_dict['pixel'], decimals = 3))\n"
   ]
  },
  {
   "cell_type": "code",
   "execution_count": null,
   "metadata": {},
   "outputs": [],
   "source": [
    "runners = pickle.load(open(\"./runners_60.pkl\", \"rb\" ))\n",
    "\n",
    "sim = Simulation(cat, runners, ngal = 10, cats = [True]*3, hr_dict=hr_dict, lr_dict=lr_dict, n_lr=nlr)\n",
    "sim.results = pickle.load(open(\"./sim_results.pkl\", \"rb\" ))\n",
    "print(\"Number of patches: \", len(sim.results[0]['SDRs']))\n",
    "print(\"Number of galaxies: \", len(np.concatenate(sim.results[0]['SDRs'])))"
   ]
  },
  {
   "cell_type": "code",
   "execution_count": null,
   "metadata": {
    "scrolled": false
   },
   "outputs": [],
   "source": [
    "sim.plot()"
   ]
  },
  {
   "cell_type": "code",
   "execution_count": null,
   "metadata": {},
   "outputs": [],
   "source": []
  },
  {
   "cell_type": "code",
   "execution_count": null,
   "metadata": {},
   "outputs": [],
   "source": []
  }
 ],
 "metadata": {
  "kernelspec": {
   "display_name": "nlp",
   "language": "python",
   "name": "nlp"
  },
  "language_info": {
   "codemirror_mode": {
    "name": "ipython",
    "version": 3
   },
   "file_extension": ".py",
   "mimetype": "text/x-python",
   "name": "python",
   "nbconvert_exporter": "python",
   "pygments_lexer": "ipython3",
   "version": "3.8.5"
  }
 },
 "nbformat": 4,
 "nbformat_minor": 2
}
