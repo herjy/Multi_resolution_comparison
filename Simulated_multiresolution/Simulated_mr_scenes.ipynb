{
 "cells": [
  {
   "cell_type": "markdown",
   "metadata": {},
   "source": [
    "# Simulations for multi-resolution deblending"
   ]
  },
  {
   "cell_type": "markdown",
   "metadata": {},
   "source": [
    "In this notebook I test multi-resolution on simulated images using the galsim package."
   ]
  },
  {
   "cell_type": "code",
   "execution_count": null,
   "metadata": {},
   "outputs": [],
   "source": [
    "import scarlet\n",
    "import galsim\n",
    "from astropy import wcs as WCS\n",
    "import time\n",
    "from mr_tools import galsim_compare_tools as gct\n",
    "from mr_tools.simulations import Simulation, load_surveys, chi\n",
    "import proxmin\n",
    "import pickle\n",
    "\n",
    "# Import Packages and setup\n",
    "import numpy as np\n",
    "import scarlet.display\n",
    "from scarlet.display import AsinhMapping\n",
    "from scarlet import Starlet\n",
    "from scarlet.wavelet import mad_wavelet\n",
    "import scipy.stats as scs\n",
    "from functools import partial\n",
    "from scarlet_extensions.initialization.detection import makeCatalog, Data\n",
    "from scarlet_extensions.scripts.runner import Runner\n",
    "import warnings\n",
    "warnings.filterwarnings(\"ignore\")\n",
    "\n",
    "%matplotlib inline\n",
    "import matplotlib\n",
    "import matplotlib.pyplot as plt\n",
    "# use a better colormap and don't interpolate the pixels\n",
    "matplotlib.rc('image', cmap='gist_stern')\n",
    "matplotlib.rc('image', interpolation='none')"
   ]
  },
  {
   "cell_type": "code",
   "execution_count": null,
   "metadata": {},
   "outputs": [],
   "source": [
    "%pylab inline\n",
    "# Setup: declaring survey properties, loading catalog and making sure we have pretty colorbars\n",
    "data_dir=galsim.meta_data.share_dir\n",
    "\n",
    "HST, EUCLID, ROMAN, HSC, RUBIN = load_surveys()\n",
    "print(RUBIN)\n",
    "center_ra = 19.3*galsim.hours     # The RA, Dec of the center of the image on the sky\n",
    "center_dec = -33.1*galsim.degrees\n",
    "\n",
    "cat = galsim.COSMOSCatalog(dir=data_dir, file_name = 'real_galaxy_catalog_23.5_example.fits')"
   ]
  },
  {
   "cell_type": "code",
   "execution_count": null,
   "metadata": {
    "scrolled": false
   },
   "outputs": [],
   "source": [
    "# Generate simulations\n",
    "hr_dict = EUCLID\n",
    "lr_dict = RUBIN\n",
    "\n",
    "nlr = 60\n",
    "nhr = np.int(np.around(nlr*lr_dict['pixel']/hr_dict['pixel'], decimals = 3))\n",
    "print(nlr, nhr)\n",
    "ngal = np.int(np.random.rand(1)*10)\n",
    "try: \n",
    "    skip\n",
    "    pics = pickle.load(open(\"./pictures.pkl\", \"rb\" ))\n",
    "except:\n",
    "    pics = gct.mk_scene(hr_dict, \n",
    "                        lr_dict, \n",
    "                        cat, \n",
    "                        (nhr,nhr), \n",
    "                        (nlr,nlr), \n",
    "                        3, \n",
    "                        gal_type = 'real',\n",
    "                        pt_fraction = 0,\n",
    "                        magmin = 20,\n",
    "                        magmax = 29,\n",
    "                        shift=True)\n",
    "    f = open(\"pictures.pkl\",\"wb\")\n",
    "    pickle.dump(pics, f)\n",
    "    f.close()\n",
    "pic_hr, pic_lr = pics\n",
    "shifts = np.array(pic_hr.shifts)\n",
    "\n",
    "wcs_hr = pic_hr.wcs\n",
    "wcs_lr = pic_lr.wcs\n",
    "\n",
    "hr = pic_hr.cube\n",
    "lr = pic_lr.cube\n",
    "\n",
    "gs_hr = pic_hr.galaxies\n",
    "gs_lr = pic_lr.galaxies\n",
    "\n",
    "psf_hr = np.array(pic_hr.psfs)\n",
    "psf_lr = np.array(pic_lr.psfs)\n"
   ]
  },
  {
   "cell_type": "code",
   "execution_count": null,
   "metadata": {},
   "outputs": [],
   "source": [
    "# Channels\n",
    "channels_hr = hr_dict['channels']\n",
    "channels_lr = lr_dict['channels']\n",
    "n,n1,n2 = np.shape(hr)\n",
    "\n",
    "# Scale the HST data\n",
    "_,n1,n2 = np.shape(hr)\n",
    "# Scale the HSC data\n",
    "r, N1, N2 = lr.shape"
   ]
  },
  {
   "cell_type": "code",
   "execution_count": null,
   "metadata": {},
   "outputs": [],
   "source": [
    "# Detectino of sources\n",
    "data_hr =  Data(hr, wcs_hr, scarlet.ImagePSF(psf_hr), channels_hr)\n",
    "data_lr =  Data(lr, wcs_lr, scarlet.ImagePSF(psf_lr), channels_lr)\n",
    "\n",
    "datas = [data_lr, data_hr]\n",
    "\n",
    "model_psf_hr = scarlet.GaussianPSF(sigma=(0.8,)*len(channels_hr), boxsize=9)\n",
    "model_psf_lr = scarlet.GaussianPSF(sigma=(0.8,)*len(channels_lr), boxsize=9)\n",
    "print(psf_hr.shape, psf_lr.shape)\n"
   ]
  },
  {
   "cell_type": "code",
   "execution_count": null,
   "metadata": {
    "scrolled": false
   },
   "outputs": [],
   "source": [
    "#Results of the detection\n",
    "\n",
    "# Create a color mapping for the HSC image\n",
    "lr_norm = AsinhMapping(minimum=-10, stretch=10, Q=10)\n",
    "hr_norm = AsinhMapping(minimum=-1, stretch=10, Q=5)\n",
    "# Get the source coordinates from the HST catalog\n",
    "xtrue, ytrue = shifts[:,0], shifts[:,1]\n",
    "\n",
    "# Convert the HST coordinates to the HSC WCS\n",
    "ratrue, dectrue = wcs_hr.wcs_pix2world(ytrue,xtrue,0)\n",
    "catalog_true = np.array([ratrue, dectrue]).T\n",
    "\n",
    "Ytrue, Xtrue = wcs_lr.wcs_world2pix(ratrue, dectrue,0)\n",
    "\n",
    "# Map the HSC image to RGB\n",
    "img_rgb = scarlet.display.img_to_rgb(lr, norm = lr_norm)\n",
    "# Apply Asinh to the HST data\n",
    "hr_img = scarlet.display.img_to_rgb(hr, norm=hr_norm)\n",
    "\n",
    "plt.figure(figsize=(15,30))\n",
    "plt.subplot(121)\n",
    "plt.imshow(img_rgb)\n",
    "#plt.axis('off')\n",
    "plt.plot(Xtrue,Ytrue, 'xk', label = 'true positions')\n",
    "plt.legend()\n",
    "\n",
    "plt.subplot(122)\n",
    "plt.imshow(hr_img)\n",
    "#plt.axis('off')\n",
    "plt.plot(xtrue,ytrue, 'xk', label = 'true positions')\n",
    "plt.legend()\n",
    "plt.show()"
   ]
  },
  {
   "cell_type": "code",
   "execution_count": null,
   "metadata": {
    "scrolled": false
   },
   "outputs": [],
   "source": [
    "\n",
    "model_frame = scarlet.Frame(\n",
    "    hr.shape,\n",
    "    psf=model_psf_hr,\n",
    "    channels=channels_hr)\n",
    "\n",
    "observation = scarlet.Observation(\n",
    "    hr, \n",
    "    psf=scarlet.ImagePSF(psf_hr),\n",
    "    channels=channels_hr).match(model_frame)\n",
    "\n",
    "sources = []\n",
    "for i in range(len(xtrue)):\n",
    "    new_source = scarlet.ExtendedSource(model_frame, (ytrue[i]\n",
    "                                                      , xtrue[i]), observation)\n",
    "    sources.append(new_source)\n",
    "blend = scarlet.Blend(sources, observation)\n",
    "blend.fit(200, e_rel=1e-6)\n",
    "scarlet.display.show_scene(sources, \n",
    "                           norm=hr_norm, \n",
    "                           observation=observation, \n",
    "                           show_rendered=True, \n",
    "                           show_observed=True, \n",
    "                           show_residual=True)\n",
    "plt.show()\n",
    "\n",
    "model_frame = sources[0].frame\n",
    "model = np.zeros(model_frame.shape)\n",
    "for src in sources:\n",
    "    model += src.get_model(frame=model_frame)\n",
    "    \n",
    "\n",
    "model = observation.render(model)\n",
    "extent = scarlet.display.get_extent(observation.bbox)\n"
   ]
  },
  {
   "cell_type": "code",
   "execution_count": null,
   "metadata": {
    "scrolled": false
   },
   "outputs": [],
   "source": [
    "\n",
    "model_frame = scarlet.Frame(\n",
    "    lr.shape,\n",
    "    psf=model_psf_lr,\n",
    "    channels=channels_lr)\n",
    "\n",
    "observation = scarlet.Observation(\n",
    "    lr, \n",
    "    psf=scarlet.ImagePSF(psf_lr),\n",
    "    channels=channels_lr).match(model_frame)\n",
    "\n",
    "\n",
    "sources = []\n",
    "for i in range(len(Xtrue)):\n",
    "    new_source = scarlet.ExtendedSource(model_frame, (Ytrue[i], Xtrue[i]), observation)\n",
    "    sources.append(new_source)\n",
    "blend = scarlet.Blend(sources, observation)\n",
    "\n",
    "blend.fit(200, e_rel=1e-8)\n",
    "plt.plot(np.log10(np.array(np.abs(blend.loss))))\n",
    "plt.show()\n",
    "\n",
    "scarlet.display.show_scene(sources, \n",
    "                           norm = AsinhMapping(minimum=-10, stretch=10, Q=10), \n",
    "                           observation=observation, \n",
    "                           show_rendered=True, \n",
    "                           show_observed=True, \n",
    "                           show_residual=True)\n",
    "plt.show()\n",
    "\n",
    "s = sources[0].get_model(frame=model_frame)\n",
    "model = observation.render(s)\n",
    "\n",
    "\n",
    "res = lr-model\n",
    "res /= np.max(res)\n",
    "\n",
    "pos = np.where(res == np.max(res))\n"
   ]
  },
  {
   "cell_type": "code",
   "execution_count": null,
   "metadata": {
    "scrolled": false
   },
   "outputs": [],
   "source": [
    "norms = [lr_norm, hr_norm]\n",
    "try: \n",
    "    runners = pickle.load(open(\"./runners_60.pkl\", \"rb\" ))\n",
    "except:\n",
    "    print(\"File not found.\")\n",
    "    run_multi = Runner(datas, model_psf_hr, ra_dec = catalog_true)\n",
    "    run_hr = Runner([data_hr], model_psf_hr, ra_dec = catalog_true)\n",
    "    run_lr = Runner([data_lr], model_psf_lr, ra_dec = catalog_true)\n",
    "    runners = [run_lr, run_hr, run_multi]\n",
    "    fr = open(\"./runners_60.pkl\",\"wb\")\n",
    "    pickle.dump(runners, fr)\n",
    "    fr.close()"
   ]
  },
  {
   "cell_type": "code",
   "execution_count": null,
   "metadata": {
    "scrolled": false
   },
   "outputs": [],
   "source": [
    "\n",
    "sim = Simulation(cat, runners, ngal = 10, cats = [True]*3, hr_dict=hr_dict, lr_dict=lr_dict, n_lr=nlr)\n",
    "\n",
    "print(sim.runners[-1].frame.shape)\n",
    "try:\n",
    "    sim.results = pickle.load(open(\"./sim_results.pkl\", \"rb\" ))\n",
    "    sim.plot()\n",
    "except:\n",
    "    print(\"File not found\")\n",
    "\n",
    "sim.run(5, plot = True, norms = norms, init_param=True)\n",
    "sim.plot()\n"
   ]
  },
  {
   "cell_type": "code",
   "execution_count": null,
   "metadata": {
    "scrolled": false
   },
   "outputs": [],
   "source": [
    "f = open(\"sim_results.pkl\",\"wb\")\n",
    "pickle.dump(sim.results, f)\n",
    "f.close()\n",
    "    \n",
    "for i in range(100):\n",
    "    sim.run(5, init_param=True)\n",
    "    sim.plot()\n",
    "    f = open(\"sim_results.pkl\",\"wb\")\n",
    "    pickle.dump(sim.results, f)\n",
    "    f.close()\n",
    "\n",
    "\n",
    "diff =  sim.runners[-1].observations[0]._diff_kernels[0]\n",
    "diff_lr = sim.runners[0].observations[0]._diff_kernels[0]\n",
    "diff_hr = sim.runners[1].observations[0]._diff_kernels[0]\n",
    "from mr_tools.pictures import Pictures"
   ]
  },
  {
   "cell_type": "code",
   "execution_count": null,
   "metadata": {},
   "outputs": [],
   "source": [
    "import galsim\n",
    "\n",
    "dirac = galsim.Gaussian(sigma = 1.e-20).withFlux(1)\n",
    "\n",
    "star = galsim.Convolve(dirac, pic1.psfs_obj[0]).drawImage(nx=51,\n",
    "                                          ny=51,\n",
    "                                          method = 'real_space',\n",
    "                                          use_true_center = True,\n",
    "                                          scale = 0.1).array\n",
    "\n",
    "psf = pic1.psfs_obj[0].withFlux(1).drawImage(nx=51,\n",
    "                                 ny=51,\n",
    "                                 method = 'real_space',\n",
    "                                 use_true_center = True,\n",
    "                                 scale = 0.1).array\n",
    "plt.imshow(star)\n",
    "plt.colorbar()\n",
    "plt.show()\n",
    "plt.imshow((star-psf))\n",
    "plt.colorbar()\n",
    "plt.show()"
   ]
  },
  {
   "cell_type": "code",
   "execution_count": null,
   "metadata": {},
   "outputs": [],
   "source": []
  },
  {
   "cell_type": "code",
   "execution_count": null,
   "metadata": {},
   "outputs": [],
   "source": []
  },
  {
   "cell_type": "code",
   "execution_count": null,
   "metadata": {},
   "outputs": [],
   "source": []
  },
  {
   "cell_type": "code",
   "execution_count": null,
   "metadata": {},
   "outputs": [],
   "source": []
  }
 ],
 "metadata": {
  "kernelspec": {
   "display_name": "nlp",
   "language": "python",
   "name": "nlp"
  },
  "language_info": {
   "codemirror_mode": {
    "name": "ipython",
    "version": 3
   },
   "file_extension": ".py",
   "mimetype": "text/x-python",
   "name": "python",
   "nbconvert_exporter": "python",
   "pygments_lexer": "ipython3",
   "version": "3.8.5"
  }
 },
 "nbformat": 4,
 "nbformat_minor": 2
}
